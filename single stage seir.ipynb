{
 "cells": [
  {
   "cell_type": "code",
   "execution_count": 32,
   "metadata": {},
   "outputs": [],
   "source": [
    "import pandas as pd\n",
    "from datetime import datetime, timedelta\n",
    "from scipy import integrate, optimize\n",
    "import numpy as np \n",
    "import matplotlib.pyplot as plt\n",
    "from sklearn.metrics import r2_score\n",
    "import warnings\n",
    "warnings.filterwarnings('ignore')"
   ]
  },
  {
   "cell_type": "code",
   "execution_count": 33,
   "metadata": {
    "scrolled": true
   },
   "outputs": [
    {
     "data": {
      "text/html": [
       "<div>\n",
       "<style scoped>\n",
       "    .dataframe tbody tr th:only-of-type {\n",
       "        vertical-align: middle;\n",
       "    }\n",
       "\n",
       "    .dataframe tbody tr th {\n",
       "        vertical-align: top;\n",
       "    }\n",
       "\n",
       "    .dataframe thead th {\n",
       "        text-align: right;\n",
       "    }\n",
       "</style>\n",
       "<table border=\"1\" class=\"dataframe\">\n",
       "  <thead>\n",
       "    <tr style=\"text-align: right;\">\n",
       "      <th></th>\n",
       "      <th>iso_code</th>\n",
       "      <th>location</th>\n",
       "      <th>date</th>\n",
       "      <th>total_cases</th>\n",
       "      <th>new_cases</th>\n",
       "      <th>total_deaths</th>\n",
       "      <th>new_deaths</th>\n",
       "      <th>total_cases_per_million</th>\n",
       "      <th>new_cases_per_million</th>\n",
       "      <th>total_deaths_per_million</th>\n",
       "      <th>new_deaths_per_million</th>\n",
       "      <th>total_tests</th>\n",
       "      <th>new_tests</th>\n",
       "      <th>total_tests_per_thousand</th>\n",
       "      <th>new_tests_per_thousand</th>\n",
       "      <th>tests_units</th>\n",
       "    </tr>\n",
       "  </thead>\n",
       "  <tbody>\n",
       "    <tr>\n",
       "      <td>14613</td>\n",
       "      <td>TUR</td>\n",
       "      <td>Turkey</td>\n",
       "      <td>2020-03-12</td>\n",
       "      <td>1</td>\n",
       "      <td>1</td>\n",
       "      <td>0</td>\n",
       "      <td>0</td>\n",
       "      <td>0.012</td>\n",
       "      <td>0.012</td>\n",
       "      <td>0.0</td>\n",
       "      <td>0.0</td>\n",
       "      <td>NaN</td>\n",
       "      <td>NaN</td>\n",
       "      <td>NaN</td>\n",
       "      <td>NaN</td>\n",
       "      <td>NaN</td>\n",
       "    </tr>\n",
       "    <tr>\n",
       "      <td>14614</td>\n",
       "      <td>TUR</td>\n",
       "      <td>Turkey</td>\n",
       "      <td>2020-03-13</td>\n",
       "      <td>2</td>\n",
       "      <td>1</td>\n",
       "      <td>0</td>\n",
       "      <td>0</td>\n",
       "      <td>0.024</td>\n",
       "      <td>0.012</td>\n",
       "      <td>0.0</td>\n",
       "      <td>0.0</td>\n",
       "      <td>NaN</td>\n",
       "      <td>NaN</td>\n",
       "      <td>NaN</td>\n",
       "      <td>NaN</td>\n",
       "      <td>NaN</td>\n",
       "    </tr>\n",
       "    <tr>\n",
       "      <td>14615</td>\n",
       "      <td>TUR</td>\n",
       "      <td>Turkey</td>\n",
       "      <td>2020-03-16</td>\n",
       "      <td>18</td>\n",
       "      <td>16</td>\n",
       "      <td>0</td>\n",
       "      <td>0</td>\n",
       "      <td>0.213</td>\n",
       "      <td>0.190</td>\n",
       "      <td>0.0</td>\n",
       "      <td>0.0</td>\n",
       "      <td>NaN</td>\n",
       "      <td>NaN</td>\n",
       "      <td>NaN</td>\n",
       "      <td>NaN</td>\n",
       "      <td>NaN</td>\n",
       "    </tr>\n",
       "    <tr>\n",
       "      <td>14616</td>\n",
       "      <td>TUR</td>\n",
       "      <td>Turkey</td>\n",
       "      <td>2020-03-17</td>\n",
       "      <td>47</td>\n",
       "      <td>29</td>\n",
       "      <td>0</td>\n",
       "      <td>0</td>\n",
       "      <td>0.557</td>\n",
       "      <td>0.344</td>\n",
       "      <td>0.0</td>\n",
       "      <td>0.0</td>\n",
       "      <td>NaN</td>\n",
       "      <td>NaN</td>\n",
       "      <td>NaN</td>\n",
       "      <td>NaN</td>\n",
       "      <td>NaN</td>\n",
       "    </tr>\n",
       "    <tr>\n",
       "      <td>14617</td>\n",
       "      <td>TUR</td>\n",
       "      <td>Turkey</td>\n",
       "      <td>2020-03-18</td>\n",
       "      <td>98</td>\n",
       "      <td>51</td>\n",
       "      <td>0</td>\n",
       "      <td>0</td>\n",
       "      <td>1.162</td>\n",
       "      <td>0.605</td>\n",
       "      <td>0.0</td>\n",
       "      <td>0.0</td>\n",
       "      <td>10018.0</td>\n",
       "      <td>NaN</td>\n",
       "      <td>0.119</td>\n",
       "      <td>NaN</td>\n",
       "      <td>tests performed</td>\n",
       "    </tr>\n",
       "  </tbody>\n",
       "</table>\n",
       "</div>"
      ],
      "text/plain": [
       "      iso_code location        date  total_cases  new_cases  total_deaths  \\\n",
       "14613      TUR   Turkey  2020-03-12            1          1             0   \n",
       "14614      TUR   Turkey  2020-03-13            2          1             0   \n",
       "14615      TUR   Turkey  2020-03-16           18         16             0   \n",
       "14616      TUR   Turkey  2020-03-17           47         29             0   \n",
       "14617      TUR   Turkey  2020-03-18           98         51             0   \n",
       "\n",
       "       new_deaths  total_cases_per_million  new_cases_per_million  \\\n",
       "14613           0                    0.012                  0.012   \n",
       "14614           0                    0.024                  0.012   \n",
       "14615           0                    0.213                  0.190   \n",
       "14616           0                    0.557                  0.344   \n",
       "14617           0                    1.162                  0.605   \n",
       "\n",
       "       total_deaths_per_million  new_deaths_per_million  total_tests  \\\n",
       "14613                       0.0                     0.0          NaN   \n",
       "14614                       0.0                     0.0          NaN   \n",
       "14615                       0.0                     0.0          NaN   \n",
       "14616                       0.0                     0.0          NaN   \n",
       "14617                       0.0                     0.0      10018.0   \n",
       "\n",
       "       new_tests  total_tests_per_thousand  new_tests_per_thousand  \\\n",
       "14613        NaN                       NaN                     NaN   \n",
       "14614        NaN                       NaN                     NaN   \n",
       "14615        NaN                       NaN                     NaN   \n",
       "14616        NaN                       NaN                     NaN   \n",
       "14617        NaN                     0.119                     NaN   \n",
       "\n",
       "           tests_units  \n",
       "14613              NaN  \n",
       "14614              NaN  \n",
       "14615              NaN  \n",
       "14616              NaN  \n",
       "14617  tests performed  "
      ]
     },
     "execution_count": 33,
     "metadata": {},
     "output_type": "execute_result"
    }
   ],
   "source": [
    "# data preprocessing\n",
    "data = pd.read_csv('owid-covid-data.csv')\n",
    "country = 'Turkey'\n",
    "country_data = data[data.location == country]\n",
    "country_data = country_data[(country_data['total_cases'] > 0)]\n",
    "country_data.head()"
   ]
  },
  {
   "cell_type": "code",
   "execution_count": 34,
   "metadata": {},
   "outputs": [],
   "source": [
    "# population\n",
    "pop_dict = {'United Kingdom': 67900000, 'Italy': 60500000, 'China': 1400050000, 'Turkey': 83200000}\n",
    "pop = pop_dict[country]\n",
    "\n",
    "# time interval\n",
    "t_interval = np.arange(len(country_data))\n",
    "\n",
    "# daily new cases\n",
    "daily_new_cases = country_data['new_cases'].values"
   ]
  },
  {
   "cell_type": "code",
   "execution_count": 35,
   "metadata": {},
   "outputs": [],
   "source": [
    "# evaluation meric\n",
    "def evaluate(actual, predict):\n",
    "    score = r2_score(actual, predict)\n",
    "    return score"
   ]
  },
  {
   "cell_type": "code",
   "execution_count": 36,
   "metadata": {},
   "outputs": [],
   "source": [
    "# SEIR model: susceptible, exposed, infected, recovered\n",
    "# initial values\n",
    "I0 = daily_new_cases[0]\n",
    "E0 = 5 * I0\n",
    "S0 = pop - I0 - E0\n",
    "R0 = 0\n",
    "alpha = 1/4\n",
    "# beta: contagion rate\n",
    "# gamma: recovery rate\n",
    "# alpha: incidence rate of incubation\n",
    "def SEIR(seir, t, beta, gamma):\n",
    "    S, E, I, R = seir\n",
    "    dsdt = - beta * I * S / pop\n",
    "    dedt = beta * I * S / pop - alpha * E\n",
    "    drdt = gamma * I\n",
    "    didt = -(dsdt + drdt + dedt)\n",
    "    return [dsdt, dedt, didt, drdt]"
   ]
  },
  {
   "cell_type": "code",
   "execution_count": 37,
   "metadata": {
    "scrolled": true
   },
   "outputs": [],
   "source": [
    "# solve SEIR\n",
    "def solve_SEIR(t, beta, gamma):\n",
    "    out = integrate.odeint(SEIR, [S0, E0, I0, R0], t, args=(beta, gamma))\n",
    "    return out[:, 2]\n",
    "\n",
    "# fit SEIR\n",
    "popt_seir, pcov_seir = optimize.curve_fit(solve_SEIR, t_interval, daily_new_cases)"
   ]
  },
  {
   "cell_type": "code",
   "execution_count": 38,
   "metadata": {
    "scrolled": true
   },
   "outputs": [],
   "source": [
    "# generate date\n",
    "start_date = country_data.date.iloc[0]\n",
    "days = len(t_interval)\n",
    "date_interval = [(datetime.strptime(start_date, '%Y-%m-%d') + timedelta(days=i)) for i in range(days)]\n",
    "prediction = solve_SEIR(t_interval, *popt_seir)"
   ]
  },
  {
   "cell_type": "code",
   "execution_count": 39,
   "metadata": {},
   "outputs": [
    {
     "data": {
      "image/png": "[encoded data removed]",
      "text/plain": [
       "<Figure size 1080x360 with 1 Axes>"
      ]
     },
     "metadata": {
      "needs_background": "light"
     },
     "output_type": "display_data"
    }
   ],
   "source": [
    "# visualize\n",
    "plt.figure(0, figsize=(15, 5))\n",
    "plt.plot(date_interval, prediction, c='r', label='Fitted Value')\n",
    "plt.bar(date_interval, daily_new_cases, label='Actual Value')\n",
    "plt.title('Daily new cases modeling of ' + country + ' using SEIR model')\n",
    "plt.ylabel('Daily New Cases')\n",
    "plt.xlabel('Date')\n",
    "plt.xlim(date_interval[0], date_interval[-1])\n",
    "plt.grid()\n",
    "plt.legend()\n",
    "plt.savefig('single_stage/' + country + '_seir.png')\n",
    "plt.show()"
   ]
  },
  {
   "cell_type": "code",
   "execution_count": 40,
   "metadata": {},
   "outputs": [
    {
     "name": "stdout",
     "output_type": "stream",
     "text": [
      "r2_score of SEIR: -0.5809185017211946\n"
     ]
    }
   ],
   "source": [
    "# evaluate\n",
    "seir_score = evaluate(daily_new_cases, prediction)\n",
    "print(f'r2_score of SEIR: {seir_score}')"
   ]
  },
  {
   "cell_type": "code",
   "execution_count": null,
   "metadata": {},
   "outputs": [],
   "source": []
  }
 ],
 "metadata": {
  "kernelspec": {
   "display_name": "Python [conda env:root] *",
   "language": "python",
   "name": "conda-root-py"
  },
  "language_info": {
   "codemirror_mode": {
    "name": "ipython",
    "version": 3
   },
   "file_extension": ".py",
   "mimetype": "text/x-python",
   "name": "python",
   "nbconvert_exporter": "python",
   "pygments_lexer": "ipython3",
   "version": "3.7.3"
  }
 },
 "nbformat": 4,
 "nbformat_minor": 2
}
