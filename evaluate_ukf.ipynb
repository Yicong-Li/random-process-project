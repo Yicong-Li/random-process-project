{
 "cells": [
  {
   "cell_type": "code",
   "execution_count": 36,
   "metadata": {},
   "outputs": [],
   "source": [
    "import scipy.io as scio\n",
    "import pandas as pd\n",
    "from sklearn.metrics import r2_score\n",
    " \n",
    "dataFile = 'valuess.mat'\n",
    "output = scio.loadmat(dataFile)\n",
    "# forecasting results\n",
    "prediction = output['xPredictedUKF'][:, 2]"
   ]
  },
  {
   "cell_type": "code",
   "execution_count": 37,
   "metadata": {},
   "outputs": [],
   "source": [
    "country = 'United Kingdom'"
   ]
  },
  {
   "cell_type": "code",
   "execution_count": 38,
   "metadata": {},
   "outputs": [],
   "source": [
    "# evaluation meric\n",
    "def evaluate(actual, predict):\n",
    "    score = r2_score(actual, predict)\n",
    "    return score"
   ]
  },
  {
   "cell_type": "code",
   "execution_count": 39,
   "metadata": {},
   "outputs": [
    {
     "name": "stdout",
     "output_type": "stream",
     "text": [
      "[4649 3896 3923 3877 3403 3242 3446 3560 3450 3534 2711 2412 -525 2615\n",
      " 3287 2959 2405 1625 4043 2013]\n",
      "[ 10820.80789764  14602.13954216  19515.78240655  25960.88490661\n",
      "  34462.9493848   45712.16965077  60608.159703    80306.37768399\n",
      " 106254.8394088  140197.92957023 184106.10383489 239968.32567697\n",
      " 309369.99461096 392802.53667367 488759.95815816 592905.88819243\n",
      " 697866.94981158 794248.02494958 872935.12776225 927774.36332497]\n",
      "forecast_r2_score of UKF: -155292.08944686118\n"
     ]
    }
   ],
   "source": [
    "# ground truth\n",
    "data = pd.read_csv('owid-covid-data.csv')\n",
    "country_data = data[data.location == country]\n",
    "country_data = country_data[(country_data['total_cases'] > 0)]\n",
    "length = len(country_data)\n",
    "\n",
    "data_n = pd.read_csv('owid-covid-data-06-03.csv')\n",
    "country_data_n = data_n[data_n.location == country]\n",
    "country_data_n = country_data_n[(country_data_n['total_cases'] > 0)]\n",
    "daily_new_cases_n = country_data_n['new_cases'].values\n",
    "gt = daily_new_cases_n[length:(length+20)]\n",
    "print(gt)\n",
    "print(prediction)\n",
    "# evaluate with actual value\n",
    "forecast_score = evaluate(gt, prediction)\n",
    "print(f'forecast_r2_score of UKF: {forecast_score}')"
   ]
  }
 ],
 "metadata": {
  "kernelspec": {
   "display_name": "Python [conda env:root] *",
   "language": "python",
   "name": "conda-root-py"
  },
  "language_info": {
   "codemirror_mode": {
    "name": "ipython",
    "version": 3
   },
   "file_extension": ".py",
   "mimetype": "text/x-python",
   "name": "python",
   "nbconvert_exporter": "python",
   "pygments_lexer": "ipython3",
   "version": "3.7.3"
  }
 },
 "nbformat": 4,
 "nbformat_minor": 4
}
